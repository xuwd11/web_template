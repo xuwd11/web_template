{
 "cells": [
  {
   "cell_type": "markdown",
   "metadata": {},
   "source": [
    "---\n",
    "title: Recommender systems, a celebration of collaborative filtering and content filtering\n",
    "---"
   ]
  },
  {
   "cell_type": "markdown",
   "metadata": {},
   "source": [
    "*Group 15 - Weidong Xu, Jiejun Lu*\n",
    "\n",
    "**Note:** You can view source codes for this project on [GitHub](https://github.com/xuwd11/Recommender_Systems), including the python package [`recommender`](https://github.com/xuwd11/Recommender_Systems/tree/master/recommender) we wrote for this project.\n",
    "<br>\n",
    "\n",
    "## Contents\n",
    "{:.no_toc}\n",
    "*  \n",
    "{: toc}"
   ]
  },
  {
   "cell_type": "markdown",
   "metadata": {},
   "source": [
    "## Project Statement and Motivation\n",
    "\n",
    "Recommender systems can predict the rating a user would give to an item by learning from the historical data of user's ratings, or the attributes of users and items if available. In this project, we constructed a recommender system for restaurants using an ensemble method, which combines the prediction of several base estimators, including baseline estimators, collaborative filtering estimators, and content filtering estimators. We benchmarked these base estimators, followed by exploring strategies of building the ensemble estimator. We demonstrated our recommender system performs robustly on different size of datasets.\n",
    "<br><br>"
   ]
  },
  {
   "cell_type": "markdown",
   "metadata": {},
   "source": [
    "## Introduction and Description of Data\n",
    "\n",
    "### Dataset\n",
    "\n",
    "In this project, we use \"review\" (shape: 4736897 X 9), \"business\" (shape: 156639 X 101)  and \"user\" (shape: 1183362 X 22) from [Yelp academic dataset](https://www.yelp.com/dataset/challenge). Each row in \"review\" specifies a review that a user makes on a restaurant (or other business premises such as barbershop), including date, comment (\"text\") and rating (\"stars\"), as well as the number of votes of different attributes received on this review. \"Business\" contains information on restaurants and barbershops appearing in \"review\", including typical attributes defining a restaurant and average ratings. There are a lot of missing values in \"business\", mostly caused by the missing of attribute descriptions. \"User\" contains information on users, including profile summaries, social networks on yelp and average ratings. \"Review\", \"business\" and \"user\" are linked together through \"user\\_id\" and \"business\\_id\". A peek of raw data is available [here](https://github.com/xuwd11/Recommender_Systems/blob/master/01_rawdata_peek.ipynb).\n",
    "\n",
    "### Data Wrangling\n",
    "\n",
    "To wrangle data for EDA and predictive modeling, we first checked and cleaned duplicate reviews (an user reviews a business for multiple times). We identified 1 case of duplicates involving 2 reviews; we simply dropped one of them since the ratings happen to be the same. Then we dropped business places unrelated to restaurants and closed restaurants (~16.4% of rows in \"business\"), and kept reviews and users associated with remaining restaurants. We conducted a series of EDA and found that ratings are correlated with many of the attributes in \"business\", \"user\" and \"review\", which inspired us to propose a content filtering model. We checked the number of restaurants in each city (there are 980 cities in the remaining dataset), and sampled several sets of different sizes by extracting data associated with restaurants in several cities of different sizes respectively for benchmarking (we chose Champaign, Cleveland, Pittsburgh, Toronto, and Las_Vegas). \n",
    "\n",
    "To build a recommender system, we can do collaborative filtering or content filtering. To perform collaborative filtering, we only need restaurant ratings from each user, which we can obtain by keeping 3 columns, i.e., \"user\\_id\", \"business\\_id\" and \"stars\", in \"review\". Content filtering requires a profile for each user or restaurant, which can characterize its nature; we can obtain the required data by merging \"review\" with \"user\" and \"business\" through \"user\\_id\" and \"business\\_id\" respectively.\n",
    "<br><br>"
   ]
  },
  {
   "cell_type": "markdown",
   "metadata": {},
   "source": [
    "## Literature Review/Related Work\n",
    "\n",
    "There are primarily [2 strategies](https://datajobs.com/data-science-repo/Recommender-Systems-%5BNetflix%5D.pdf) for recommender systems, content filtering and [collaborative filtering](http://files.grouplens.org/papers/FnT%20CF%20Recsys%20Survey.pdf). Content filtering requires a profile for each user or restaurant, which captures its nature, and makes predictions by learning from user or restaurant profiles. Collaborative filtering makes predictions by analyzing only past user behavior, such as restaurant ratings. Although collaborative filtering suffers from cold start problem due to its inability to handle new users and restaurants, collaborative filtering is extremely helpful when user or restaurant profile data required for content filtering are not available, and is generally more accurate than content filtering methods.\n",
    "\n",
    "Collaborative filtering approaches include neighborhood methods and latent factor models. As demonstrated by the [Netflix Prize competition](https://datajobs.com/data-science-repo/Recommender-Systems-%5BNetflix%5D.pdf), matrix factorization based latent factor models generally performs better than neighborhood methods.\n",
    "\n",
    "We implemented some baseline models and latent factor models from scratch (by using `numpy` and `scipy`'s linear algebra toolkits instead of well-established recommender system packages); we implemented other algorithms by wrapping around methods in a recommender system python package, [`scikit-surprise`](http://surpriselib.com/). Each algorithm we implemented by using the [`scikit-surprise`](http://surpriselib.com/) package is indicated by a * after its name.\n",
    "\n",
    "Besides reporting root mean square error (RMSE) and $R^2$ score, we found it would be very helpful to visualize model's performance on different ratings by rounding the predicted ratings to integers (and setting ratings below 1 to 1 and above 5 to 5), and plotting the confusion matrix in a format used in [a related work](https://github.com/kevin11h/YelpDatasetChallengeDataScienceAndMachineLearningUCSD/blob/master/Yelp%20Predictive%20Analytics.ipynb). \n",
    "\n",
    "A comprehensive list of references can be found in [References](09_reference.html).\n",
    "<br><br>"
   ]
  },
  {
   "cell_type": "markdown",
   "metadata": {},
   "source": [
    "## Result summary\n",
    "\n",
    "We benchmarked the base estimators and ensemble estimators in 6 datasets of different sizes. In each dataset, we randomly split the reviews into 3 sets: a training set (60%), a cross-validation set (16%) and a test set (24%). We train base estimators on the training set, and test on the test set; cross-validation set is used for the training of ensemble estimators. All experiments are run on a desktop with Inter Xeon CPU 3.10 GHz, 256 GB RAM.\n",
    "\n",
    "Please see [EDA](03_EDA.html), [Collaborative Filtering](04_collaborative_filtering.html) and [Content Filtering](05_content_filtering.html) for modeling approaches and project trajectory.\n",
    "\n",
    "Please see [Results](07_results.html) for detailed results including confusion matrix visualization (of rounded predictions) for each experiment we list below.\n",
    "\n",
    "Please see [Conclusions](08_conclusions.html) for conclusions and future work.\n",
    "<br><br>"
   ]
  },
  {
   "cell_type": "code",
   "execution_count": 1,
   "metadata": {
    "collapsed": true
   },
   "outputs": [],
   "source": [
    "import sys\n",
    "import traceback\n",
    "import pandas as pd\n",
    "import numpy as np\n",
    "import time\n",
    "from copy import deepcopy\n",
    "\n",
    "from sklearn.base import BaseEstimator\n",
    "from sklearn.model_selection import train_test_split\n",
    "from sklearn.model_selection import GridSearchCV\n",
    "from sklearn.metrics import r2_score\n",
    "from sklearn.metrics import mean_squared_error\n",
    "from sklearn.metrics import accuracy_score\n",
    "from sklearn.metrics import confusion_matrix\n",
    "\n",
    "from sklearn.linear_model import Ridge, RidgeCV\n",
    "from sklearn.ensemble import RandomForestRegressor, RandomForestClassifier\n",
    "\n",
    "from scipy import sparse\n",
    "\n",
    "import pickle\n",
    "\n",
    "from IPython.display import display, HTML, Markdown\n",
    "\n",
    "import matplotlib\n",
    "import matplotlib.pyplot as plt\n",
    "\n",
    "import seaborn as sns\n",
    "pd.set_option('display.width', 15000)\n",
    "pd.set_option('display.max_columns', 100)\n",
    "sns.set_style(\"whitegrid\", {'axes.grid' : False})\n",
    "sns.set_context('poster')\n",
    "%matplotlib inline\n",
    "\n",
    "from surprise import Dataset, Reader\n",
    "from surprise import NormalPredictor, BaselineOnly, SVD, SVDpp, NMF, \\\n",
    "SlopeOne, CoClustering, KNNBasic, KNNWithMeans, KNNBaseline\n",
    "\n",
    "from recommender import plot_cm, get_results, show_results, IO, \\\n",
    "show_summaries, get_base_predictions, get_multi_base_predictions\n",
    "from recommender import ModeClassifier, BaselineMean, BaselineRegression, ALS1, ALS2, RS_surprise, RS_ensemble"
   ]
  },
  {
   "cell_type": "code",
   "execution_count": 2,
   "metadata": {
    "scrolled": false
   },
   "outputs": [
    {
     "data": {
      "text/markdown": [
       "### Champaign <sup>(20571 reviews, 878 restaurants, 8451 users)</sup>"
      ],
      "text/plain": [
       "<IPython.core.display.Markdown object>"
      ]
     },
     "metadata": {},
     "output_type": "display_data"
    },
    {
     "data": {
      "text/html": [
       "<table border=\"1\" class=\"dataframe\">\n",
       "  <thead>\n",
       "    <tr style=\"text-align: right;\">\n",
       "      <th>Collaborative filtering</th>\n",
       "      <th>fitting time (s)</th>\n",
       "      <th>train RMSE</th>\n",
       "      <th>test RMSE</th>\n",
       "      <th>train $R^2$</th>\n",
       "      <th>test $R^2$</th>\n",
       "    </tr>\n",
       "  </thead>\n",
       "  <tbody>\n",
       "    <tr>\n",
       "      <td>Mode estimator</td>\n",
       "      <td>0.0000</td>\n",
       "      <td>1.9995</td>\n",
       "      <td>2.0258</td>\n",
       "      <td>-0.9501</td>\n",
       "      <td>-0.9500</td>\n",
       "    </tr>\n",
       "    <tr>\n",
       "      <td>Normal predictor*</td>\n",
       "      <td>0.0870</td>\n",
       "      <td>1.8825</td>\n",
       "      <td>1.8821</td>\n",
       "      <td>-0.7286</td>\n",
       "      <td>-0.6833</td>\n",
       "    </tr>\n",
       "    <tr>\n",
       "      <td>Baseline (mean)</td>\n",
       "      <td>0.0190</td>\n",
       "      <td>0.9485</td>\n",
       "      <td>1.4648</td>\n",
       "      <td>0.5612</td>\n",
       "      <td>-0.0195</td>\n",
       "    </tr>\n",
       "    <tr>\n",
       "      <td>Baseline (regression)</td>\n",
       "      <td>0.0350</td>\n",
       "      <td>1.0481</td>\n",
       "      <td>1.3032</td>\n",
       "      <td>0.4642</td>\n",
       "      <td>0.1930</td>\n",
       "    </tr>\n",
       "    <tr>\n",
       "      <td>Baseline (ALS)*</td>\n",
       "      <td>0.0570</td>\n",
       "      <td>1.1981</td>\n",
       "      <td>1.3200</td>\n",
       "      <td>0.2998</td>\n",
       "      <td>0.1721</td>\n",
       "    </tr>\n",
       "    <tr>\n",
       "      <td>KNN (basic)*</td>\n",
       "      <td>0.9841</td>\n",
       "      <td>0.4328</td>\n",
       "      <td>1.4642</td>\n",
       "      <td>0.9086</td>\n",
       "      <td>-0.0187</td>\n",
       "    </tr>\n",
       "    <tr>\n",
       "      <td>KNN (with means)*</td>\n",
       "      <td>1.2851</td>\n",
       "      <td>0.5898</td>\n",
       "      <td>1.5310</td>\n",
       "      <td>0.8303</td>\n",
       "      <td>-0.1138</td>\n",
       "    </tr>\n",
       "    <tr>\n",
       "      <td>KNN (baseline)*</td>\n",
       "      <td>1.0201</td>\n",
       "      <td>0.4175</td>\n",
       "      <td>1.3718</td>\n",
       "      <td>0.9150</td>\n",
       "      <td>0.1058</td>\n",
       "    </tr>\n",
       "    <tr>\n",
       "      <td>SVD-ALS1</td>\n",
       "      <td>12.2077</td>\n",
       "      <td>0.6747</td>\n",
       "      <td>1.3064</td>\n",
       "      <td>0.7780</td>\n",
       "      <td>0.1891</td>\n",
       "    </tr>\n",
       "    <tr>\n",
       "      <td>SVD-ALS2</td>\n",
       "      <td>12.9087</td>\n",
       "      <td>0.6764</td>\n",
       "      <td>1.3092</td>\n",
       "      <td>0.7768</td>\n",
       "      <td>0.1855</td>\n",
       "    </tr>\n",
       "    <tr>\n",
       "      <td>SVD-SGD*</td>\n",
       "      <td>1.0721</td>\n",
       "      <td>0.8929</td>\n",
       "      <td>1.3173</td>\n",
       "      <td>0.6111</td>\n",
       "      <td>0.1754</td>\n",
       "    </tr>\n",
       "    <tr>\n",
       "      <td>SVD++-SGD*</td>\n",
       "      <td>3.2642</td>\n",
       "      <td>0.9285</td>\n",
       "      <td>1.3220</td>\n",
       "      <td>0.5795</td>\n",
       "      <td>0.1695</td>\n",
       "    </tr>\n",
       "    <tr>\n",
       "      <td>NMF-SGD*</td>\n",
       "      <td>1.1601</td>\n",
       "      <td>0.2485</td>\n",
       "      <td>1.5226</td>\n",
       "      <td>0.9699</td>\n",
       "      <td>-0.1016</td>\n",
       "    </tr>\n",
       "    <tr>\n",
       "      <td>Slope one*</td>\n",
       "      <td>0.1530</td>\n",
       "      <td>0.3545</td>\n",
       "      <td>1.5546</td>\n",
       "      <td>0.9387</td>\n",
       "      <td>-0.1484</td>\n",
       "    </tr>\n",
       "    <tr>\n",
       "      <td>Co-clustering*</td>\n",
       "      <td>1.2161</td>\n",
       "      <td>0.8066</td>\n",
       "      <td>1.4792</td>\n",
       "      <td>0.6826</td>\n",
       "      <td>-0.0398</td>\n",
       "    </tr>\n",
       "  </tbody>\n",
       "</table>"
      ],
      "text/plain": [
       "<IPython.core.display.HTML object>"
      ]
     },
     "metadata": {},
     "output_type": "display_data"
    },
    {
     "data": {
      "text/markdown": [
       "<sup>(* shows the algorithms we implemented by wrapping around     methods in scikit-surprise python package)</sup>"
      ],
      "text/plain": [
       "<IPython.core.display.Markdown object>"
      ]
     },
     "metadata": {},
     "output_type": "display_data"
    },
    {
     "data": {
      "text/html": [
       "<table border=\"1\" class=\"dataframe\">\n",
       "  <thead>\n",
       "    <tr style=\"text-align: right;\">\n",
       "      <th>Content filtering</th>\n",
       "      <th>fitting time (s)</th>\n",
       "      <th>train RMSE</th>\n",
       "      <th>test RMSE</th>\n",
       "      <th>train $R^2$</th>\n",
       "      <th>test $R^2$</th>\n",
       "    </tr>\n",
       "  </thead>\n",
       "  <tbody>\n",
       "    <tr>\n",
       "      <td>Ridge regression</td>\n",
       "      <td>0.0690</td>\n",
       "      <td>1.0773</td>\n",
       "      <td>1.0971</td>\n",
       "      <td>0.4339</td>\n",
       "      <td>0.4280</td>\n",
       "    </tr>\n",
       "    <tr>\n",
       "      <td>Random forest</td>\n",
       "      <td>1.0951</td>\n",
       "      <td>1.0262</td>\n",
       "      <td>1.0862</td>\n",
       "      <td>0.4864</td>\n",
       "      <td>0.4394</td>\n",
       "    </tr>\n",
       "  </tbody>\n",
       "</table>"
      ],
      "text/plain": [
       "<IPython.core.display.HTML object>"
      ]
     },
     "metadata": {},
     "output_type": "display_data"
    },
    {
     "data": {
      "text/html": [
       "<table border=\"1\" class=\"dataframe\">\n",
       "  <thead>\n",
       "    <tr style=\"text-align: right;\">\n",
       "      <th>Ensemble estimators</th>\n",
       "      <th>fitting time (s)</th>\n",
       "      <th>train RMSE</th>\n",
       "      <th>test RMSE</th>\n",
       "      <th>train $R^2$</th>\n",
       "      <th>test $R^2$</th>\n",
       "    </tr>\n",
       "  </thead>\n",
       "  <tbody>\n",
       "    <tr>\n",
       "      <td>Ensemble1 (weighted average)</td>\n",
       "      <td>0.000</td>\n",
       "      <td>0.8527</td>\n",
       "      <td>1.3071</td>\n",
       "      <td>0.6454</td>\n",
       "      <td>0.1882</td>\n",
       "    </tr>\n",
       "    <tr>\n",
       "      <td>Ensemble1 (Ridge regression)</td>\n",
       "      <td>0.011</td>\n",
       "      <td>1.3268</td>\n",
       "      <td>1.3026</td>\n",
       "      <td>0.1413</td>\n",
       "      <td>0.1937</td>\n",
       "    </tr>\n",
       "    <tr>\n",
       "      <td>Ensemble1 (random forest)</td>\n",
       "      <td>0.220</td>\n",
       "      <td>1.0506</td>\n",
       "      <td>1.3048</td>\n",
       "      <td>0.4617</td>\n",
       "      <td>0.1910</td>\n",
       "    </tr>\n",
       "    <tr>\n",
       "      <td>Ensemble2 (weighted average)</td>\n",
       "      <td>0.000</td>\n",
       "      <td>0.9007</td>\n",
       "      <td>1.1591</td>\n",
       "      <td>0.6043</td>\n",
       "      <td>0.3616</td>\n",
       "    </tr>\n",
       "    <tr>\n",
       "      <td>Ensemble2 (Ridge regression)</td>\n",
       "      <td>0.004</td>\n",
       "      <td>1.2721</td>\n",
       "      <td>1.0830</td>\n",
       "      <td>0.2107</td>\n",
       "      <td>0.4426</td>\n",
       "    </tr>\n",
       "    <tr>\n",
       "      <td>Ensemble2 (random forest)</td>\n",
       "      <td>0.271</td>\n",
       "      <td>1.0678</td>\n",
       "      <td>1.0847</td>\n",
       "      <td>0.4439</td>\n",
       "      <td>0.4409</td>\n",
       "    </tr>\n",
       "  </tbody>\n",
       "</table>"
      ],
      "text/plain": [
       "<IPython.core.display.HTML object>"
      ]
     },
     "metadata": {},
     "output_type": "display_data"
    },
    {
     "data": {
      "text/markdown": [
       "<sup>(Ensemble1 represents the ensemble of collaborative filtering models;     Ensemble2 represents the ensemble of collaborative filtering and content filtering models)</sup>"
      ],
      "text/plain": [
       "<IPython.core.display.Markdown object>"
      ]
     },
     "metadata": {},
     "output_type": "display_data"
    },
    {
     "data": {
      "text/markdown": [
       "<br><br>"
      ],
      "text/plain": [
       "<IPython.core.display.Markdown object>"
      ]
     },
     "metadata": {},
     "output_type": "display_data"
    },
    {
     "data": {
      "text/markdown": [
       "### Cleveland <sup>(75932 reviews, 2500 restaurants, 30131 users)</sup>"
      ],
      "text/plain": [
       "<IPython.core.display.Markdown object>"
      ]
     },
     "metadata": {},
     "output_type": "display_data"
    },
    {
     "data": {
      "text/html": [
       "<table border=\"1\" class=\"dataframe\">\n",
       "  <thead>\n",
       "    <tr style=\"text-align: right;\">\n",
       "      <th>Collaborative filtering</th>\n",
       "      <th>fitting time (s)</th>\n",
       "      <th>train RMSE</th>\n",
       "      <th>test RMSE</th>\n",
       "      <th>train $R^2$</th>\n",
       "      <th>test $R^2$</th>\n",
       "    </tr>\n",
       "  </thead>\n",
       "  <tbody>\n",
       "    <tr>\n",
       "      <td>Mode estimator</td>\n",
       "      <td>0.0000</td>\n",
       "      <td>1.8152</td>\n",
       "      <td>1.8262</td>\n",
       "      <td>-0.8226</td>\n",
       "      <td>-0.8371</td>\n",
       "    </tr>\n",
       "    <tr>\n",
       "      <td>Normal predictor*</td>\n",
       "      <td>0.2250</td>\n",
       "      <td>1.7514</td>\n",
       "      <td>1.7529</td>\n",
       "      <td>-0.6968</td>\n",
       "      <td>-0.6926</td>\n",
       "    </tr>\n",
       "    <tr>\n",
       "      <td>Baseline (mean)</td>\n",
       "      <td>0.0550</td>\n",
       "      <td>0.8908</td>\n",
       "      <td>1.3417</td>\n",
       "      <td>0.5610</td>\n",
       "      <td>0.0084</td>\n",
       "    </tr>\n",
       "    <tr>\n",
       "      <td>Baseline (regression)</td>\n",
       "      <td>0.1110</td>\n",
       "      <td>0.9870</td>\n",
       "      <td>1.2051</td>\n",
       "      <td>0.4611</td>\n",
       "      <td>0.2000</td>\n",
       "    </tr>\n",
       "    <tr>\n",
       "      <td>Baseline (ALS)*</td>\n",
       "      <td>0.2790</td>\n",
       "      <td>1.1171</td>\n",
       "      <td>1.2170</td>\n",
       "      <td>0.3097</td>\n",
       "      <td>0.1841</td>\n",
       "    </tr>\n",
       "    <tr>\n",
       "      <td>KNN (basic)*</td>\n",
       "      <td>13.4688</td>\n",
       "      <td>0.3952</td>\n",
       "      <td>1.3484</td>\n",
       "      <td>0.9136</td>\n",
       "      <td>-0.0016</td>\n",
       "    </tr>\n",
       "    <tr>\n",
       "      <td>KNN (with means)*</td>\n",
       "      <td>14.3168</td>\n",
       "      <td>0.5600</td>\n",
       "      <td>1.4020</td>\n",
       "      <td>0.8265</td>\n",
       "      <td>-0.0829</td>\n",
       "    </tr>\n",
       "    <tr>\n",
       "      <td>KNN (baseline)*</td>\n",
       "      <td>13.0127</td>\n",
       "      <td>0.3837</td>\n",
       "      <td>1.2612</td>\n",
       "      <td>0.9186</td>\n",
       "      <td>0.1237</td>\n",
       "    </tr>\n",
       "    <tr>\n",
       "      <td>SVD-ALS1</td>\n",
       "      <td>41.9954</td>\n",
       "      <td>0.5721</td>\n",
       "      <td>1.2095</td>\n",
       "      <td>0.8190</td>\n",
       "      <td>0.1941</td>\n",
       "    </tr>\n",
       "    <tr>\n",
       "      <td>SVD-ALS2</td>\n",
       "      <td>44.2825</td>\n",
       "      <td>0.5740</td>\n",
       "      <td>1.2121</td>\n",
       "      <td>0.8177</td>\n",
       "      <td>0.1907</td>\n",
       "    </tr>\n",
       "    <tr>\n",
       "      <td>SVD-SGD*</td>\n",
       "      <td>3.8932</td>\n",
       "      <td>0.8239</td>\n",
       "      <td>1.2204</td>\n",
       "      <td>0.6245</td>\n",
       "      <td>0.1796</td>\n",
       "    </tr>\n",
       "    <tr>\n",
       "      <td>SVD++-SGD*</td>\n",
       "      <td>15.5919</td>\n",
       "      <td>0.8628</td>\n",
       "      <td>1.2232</td>\n",
       "      <td>0.5882</td>\n",
       "      <td>0.1758</td>\n",
       "    </tr>\n",
       "    <tr>\n",
       "      <td>NMF-SGD*</td>\n",
       "      <td>4.6793</td>\n",
       "      <td>0.3102</td>\n",
       "      <td>1.3997</td>\n",
       "      <td>0.9468</td>\n",
       "      <td>-0.0793</td>\n",
       "    </tr>\n",
       "    <tr>\n",
       "      <td>Slope one*</td>\n",
       "      <td>0.7920</td>\n",
       "      <td>0.3622</td>\n",
       "      <td>1.4140</td>\n",
       "      <td>0.9274</td>\n",
       "      <td>-0.1013</td>\n",
       "    </tr>\n",
       "    <tr>\n",
       "      <td>Co-clustering*</td>\n",
       "      <td>4.3442</td>\n",
       "      <td>0.7050</td>\n",
       "      <td>1.3656</td>\n",
       "      <td>0.7251</td>\n",
       "      <td>-0.0273</td>\n",
       "    </tr>\n",
       "  </tbody>\n",
       "</table>"
      ],
      "text/plain": [
       "<IPython.core.display.HTML object>"
      ]
     },
     "metadata": {},
     "output_type": "display_data"
    },
    {
     "data": {
      "text/markdown": [
       "<sup>(* shows the algorithms we implemented by wrapping around     methods in scikit-surprise python package)</sup>"
      ],
      "text/plain": [
       "<IPython.core.display.Markdown object>"
      ]
     },
     "metadata": {},
     "output_type": "display_data"
    },
    {
     "data": {
      "text/html": [
       "<table border=\"1\" class=\"dataframe\">\n",
       "  <thead>\n",
       "    <tr style=\"text-align: right;\">\n",
       "      <th>Content filtering</th>\n",
       "      <th>fitting time (s)</th>\n",
       "      <th>train RMSE</th>\n",
       "      <th>test RMSE</th>\n",
       "      <th>train $R^2$</th>\n",
       "      <th>test $R^2$</th>\n",
       "    </tr>\n",
       "  </thead>\n",
       "  <tbody>\n",
       "    <tr>\n",
       "      <td>Ridge regression</td>\n",
       "      <td>0.2860</td>\n",
       "      <td>1.0195</td>\n",
       "      <td>1.0313</td>\n",
       "      <td>0.4251</td>\n",
       "      <td>0.4141</td>\n",
       "    </tr>\n",
       "    <tr>\n",
       "      <td>Random forest</td>\n",
       "      <td>4.7943</td>\n",
       "      <td>0.9929</td>\n",
       "      <td>1.0155</td>\n",
       "      <td>0.4546</td>\n",
       "      <td>0.4320</td>\n",
       "    </tr>\n",
       "  </tbody>\n",
       "</table>"
      ],
      "text/plain": [
       "<IPython.core.display.HTML object>"
      ]
     },
     "metadata": {},
     "output_type": "display_data"
    },
    {
     "data": {
      "text/html": [
       "<table border=\"1\" class=\"dataframe\">\n",
       "  <thead>\n",
       "    <tr style=\"text-align: right;\">\n",
       "      <th>Ensemble estimators</th>\n",
       "      <th>fitting time (s)</th>\n",
       "      <th>train RMSE</th>\n",
       "      <th>test RMSE</th>\n",
       "      <th>train $R^2$</th>\n",
       "      <th>test $R^2$</th>\n",
       "    </tr>\n",
       "  </thead>\n",
       "  <tbody>\n",
       "    <tr>\n",
       "      <td>Ensemble1 (weighted average)</td>\n",
       "      <td>0.0000</td>\n",
       "      <td>0.7559</td>\n",
       "      <td>1.2085</td>\n",
       "      <td>0.6839</td>\n",
       "      <td>0.1955</td>\n",
       "    </tr>\n",
       "    <tr>\n",
       "      <td>Ensemble1 (Ridge regression)</td>\n",
       "      <td>0.0050</td>\n",
       "      <td>0.9587</td>\n",
       "      <td>1.2040</td>\n",
       "      <td>0.4916</td>\n",
       "      <td>0.2014</td>\n",
       "    </tr>\n",
       "    <tr>\n",
       "      <td>Ensemble1 (random forest)</td>\n",
       "      <td>0.7260</td>\n",
       "      <td>0.9431</td>\n",
       "      <td>1.2063</td>\n",
       "      <td>0.5080</td>\n",
       "      <td>0.1984</td>\n",
       "    </tr>\n",
       "    <tr>\n",
       "      <td>Ensemble2 (weighted average)</td>\n",
       "      <td>0.0000</td>\n",
       "      <td>0.8214</td>\n",
       "      <td>1.0915</td>\n",
       "      <td>0.6268</td>\n",
       "      <td>0.3437</td>\n",
       "    </tr>\n",
       "    <tr>\n",
       "      <td>Ensemble2 (Ridge regression)</td>\n",
       "      <td>0.0070</td>\n",
       "      <td>1.0072</td>\n",
       "      <td>1.0141</td>\n",
       "      <td>0.4389</td>\n",
       "      <td>0.4334</td>\n",
       "    </tr>\n",
       "    <tr>\n",
       "      <td>Ensemble2 (random forest)</td>\n",
       "      <td>0.9471</td>\n",
       "      <td>0.9989</td>\n",
       "      <td>1.0180</td>\n",
       "      <td>0.4480</td>\n",
       "      <td>0.4291</td>\n",
       "    </tr>\n",
       "  </tbody>\n",
       "</table>"
      ],
      "text/plain": [
       "<IPython.core.display.HTML object>"
      ]
     },
     "metadata": {},
     "output_type": "display_data"
    },
    {
     "data": {
      "text/markdown": [
       "<sup>(Ensemble1 represents the ensemble of collaborative filtering models;     Ensemble2 represents the ensemble of collaborative filtering and content filtering models)</sup>"
      ],
      "text/plain": [
       "<IPython.core.display.Markdown object>"
      ]
     },
     "metadata": {},
     "output_type": "display_data"
    },
    {
     "data": {
      "text/markdown": [
       "<br><br>"
      ],
      "text/plain": [
       "<IPython.core.display.Markdown object>"
      ]
     },
     "metadata": {},
     "output_type": "display_data"
    },
    {
     "data": {
      "text/markdown": [
       "### Pittsburgh <sup>(143682 reviews, 4745 restaurants, 46179 users)</sup>"
      ],
      "text/plain": [
       "<IPython.core.display.Markdown object>"
      ]
     },
     "metadata": {},
     "output_type": "display_data"
    },
    {
     "data": {
      "text/html": [
       "<table border=\"1\" class=\"dataframe\">\n",
       "  <thead>\n",
       "    <tr style=\"text-align: right;\">\n",
       "      <th>Collaborative filtering</th>\n",
       "      <th>fitting time (s)</th>\n",
       "      <th>train RMSE</th>\n",
       "      <th>test RMSE</th>\n",
       "      <th>train $R^2$</th>\n",
       "      <th>test $R^2$</th>\n",
       "    </tr>\n",
       "  </thead>\n",
       "  <tbody>\n",
       "    <tr>\n",
       "      <td>Mode estimator</td>\n",
       "      <td>0.0000</td>\n",
       "      <td>1.8026</td>\n",
       "      <td>1.7988</td>\n",
       "      <td>-0.8466</td>\n",
       "      <td>-0.8393</td>\n",
       "    </tr>\n",
       "    <tr>\n",
       "      <td>Normal predictor*</td>\n",
       "      <td>0.4550</td>\n",
       "      <td>1.7307</td>\n",
       "      <td>1.7303</td>\n",
       "      <td>-0.7022</td>\n",
       "      <td>-0.7017</td>\n",
       "    </tr>\n",
       "    <tr>\n",
       "      <td>Baseline (mean)</td>\n",
       "      <td>0.1020</td>\n",
       "      <td>0.9052</td>\n",
       "      <td>1.3198</td>\n",
       "      <td>0.5343</td>\n",
       "      <td>0.0099</td>\n",
       "    </tr>\n",
       "    <tr>\n",
       "      <td>Baseline (regression)</td>\n",
       "      <td>0.2000</td>\n",
       "      <td>0.9941</td>\n",
       "      <td>1.1878</td>\n",
       "      <td>0.4384</td>\n",
       "      <td>0.1980</td>\n",
       "    </tr>\n",
       "    <tr>\n",
       "      <td>Baseline (ALS)*</td>\n",
       "      <td>0.5780</td>\n",
       "      <td>1.1119</td>\n",
       "      <td>1.2020</td>\n",
       "      <td>0.2974</td>\n",
       "      <td>0.1788</td>\n",
       "    </tr>\n",
       "    <tr>\n",
       "      <td>SVD-ALS1</td>\n",
       "      <td>79.5536</td>\n",
       "      <td>0.5627</td>\n",
       "      <td>1.1960</td>\n",
       "      <td>0.8200</td>\n",
       "      <td>0.1870</td>\n",
       "    </tr>\n",
       "    <tr>\n",
       "      <td>SVD-ALS2</td>\n",
       "      <td>82.5507</td>\n",
       "      <td>0.5651</td>\n",
       "      <td>1.2010</td>\n",
       "      <td>0.8185</td>\n",
       "      <td>0.1801</td>\n",
       "    </tr>\n",
       "    <tr>\n",
       "      <td>SVD-SGD*</td>\n",
       "      <td>7.5524</td>\n",
       "      <td>0.8267</td>\n",
       "      <td>1.2046</td>\n",
       "      <td>0.6116</td>\n",
       "      <td>0.1752</td>\n",
       "    </tr>\n",
       "    <tr>\n",
       "      <td>SVD++-SGD*</td>\n",
       "      <td>43.6945</td>\n",
       "      <td>0.8738</td>\n",
       "      <td>1.2025</td>\n",
       "      <td>0.5661</td>\n",
       "      <td>0.1780</td>\n",
       "    </tr>\n",
       "    <tr>\n",
       "      <td>NMF-SGD*</td>\n",
       "      <td>9.3785</td>\n",
       "      <td>0.3666</td>\n",
       "      <td>1.3761</td>\n",
       "      <td>0.9236</td>\n",
       "      <td>-0.0765</td>\n",
       "    </tr>\n",
       "    <tr>\n",
       "      <td>Slope one*</td>\n",
       "      <td>1.8091</td>\n",
       "      <td>0.3685</td>\n",
       "      <td>1.3870</td>\n",
       "      <td>0.9228</td>\n",
       "      <td>-0.0935</td>\n",
       "    </tr>\n",
       "    <tr>\n",
       "      <td>Co-clustering*</td>\n",
       "      <td>7.8524</td>\n",
       "      <td>0.7938</td>\n",
       "      <td>1.3291</td>\n",
       "      <td>0.6419</td>\n",
       "      <td>-0.0041</td>\n",
       "    </tr>\n",
       "  </tbody>\n",
       "</table>"
      ],
      "text/plain": [
       "<IPython.core.display.HTML object>"
      ]
     },
     "metadata": {},
     "output_type": "display_data"
    },
    {
     "data": {
      "text/markdown": [
       "<sup>(* shows the algorithms we implemented by wrapping around     methods in scikit-surprise python package)</sup>"
      ],
      "text/plain": [
       "<IPython.core.display.Markdown object>"
      ]
     },
     "metadata": {},
     "output_type": "display_data"
    },
    {
     "data": {
      "text/html": [
       "<table border=\"1\" class=\"dataframe\">\n",
       "  <thead>\n",
       "    <tr style=\"text-align: right;\">\n",
       "      <th>Content filtering</th>\n",
       "      <th>fitting time (s)</th>\n",
       "      <th>train RMSE</th>\n",
       "      <th>test RMSE</th>\n",
       "      <th>train $R^2$</th>\n",
       "      <th>test $R^2$</th>\n",
       "    </tr>\n",
       "  </thead>\n",
       "  <tbody>\n",
       "    <tr>\n",
       "      <td>Ridge regression</td>\n",
       "      <td>0.5500</td>\n",
       "      <td>1.0158</td>\n",
       "      <td>1.0062</td>\n",
       "      <td>0.4135</td>\n",
       "      <td>0.4245</td>\n",
       "    </tr>\n",
       "    <tr>\n",
       "      <td>Random forest</td>\n",
       "      <td>10.1126</td>\n",
       "      <td>0.9938</td>\n",
       "      <td>0.9896</td>\n",
       "      <td>0.4388</td>\n",
       "      <td>0.4434</td>\n",
       "    </tr>\n",
       "  </tbody>\n",
       "</table>"
      ],
      "text/plain": [
       "<IPython.core.display.HTML object>"
      ]
     },
     "metadata": {},
     "output_type": "display_data"
    },
    {
     "data": {
      "text/html": [
       "<table border=\"1\" class=\"dataframe\">\n",
       "  <thead>\n",
       "    <tr style=\"text-align: right;\">\n",
       "      <th>Ensemble estimators</th>\n",
       "      <th>fitting time (s)</th>\n",
       "      <th>train RMSE</th>\n",
       "      <th>test RMSE</th>\n",
       "      <th>train $R^2$</th>\n",
       "      <th>test $R^2$</th>\n",
       "    </tr>\n",
       "  </thead>\n",
       "  <tbody>\n",
       "    <tr>\n",
       "      <td>Ensemble1 (weighted average)</td>\n",
       "      <td>0.0000</td>\n",
       "      <td>0.8050</td>\n",
       "      <td>1.1919</td>\n",
       "      <td>0.6317</td>\n",
       "      <td>0.1925</td>\n",
       "    </tr>\n",
       "    <tr>\n",
       "      <td>Ensemble1 (Ridge regression)</td>\n",
       "      <td>0.0150</td>\n",
       "      <td>0.9371</td>\n",
       "      <td>1.1872</td>\n",
       "      <td>0.5010</td>\n",
       "      <td>0.1988</td>\n",
       "    </tr>\n",
       "    <tr>\n",
       "      <td>Ensemble1 (random forest)</td>\n",
       "      <td>1.2871</td>\n",
       "      <td>0.9703</td>\n",
       "      <td>1.1882</td>\n",
       "      <td>0.4650</td>\n",
       "      <td>0.1974</td>\n",
       "    </tr>\n",
       "    <tr>\n",
       "      <td>Ensemble2 (weighted average)</td>\n",
       "      <td>0.0000</td>\n",
       "      <td>0.8576</td>\n",
       "      <td>1.0612</td>\n",
       "      <td>0.5820</td>\n",
       "      <td>0.3598</td>\n",
       "    </tr>\n",
       "    <tr>\n",
       "      <td>Ensemble2 (Ridge regression)</td>\n",
       "      <td>0.0170</td>\n",
       "      <td>0.9494</td>\n",
       "      <td>0.9882</td>\n",
       "      <td>0.4878</td>\n",
       "      <td>0.4449</td>\n",
       "    </tr>\n",
       "    <tr>\n",
       "      <td>Ensemble2 (random forest)</td>\n",
       "      <td>1.7071</td>\n",
       "      <td>0.9996</td>\n",
       "      <td>0.9933</td>\n",
       "      <td>0.4322</td>\n",
       "      <td>0.4391</td>\n",
       "    </tr>\n",
       "  </tbody>\n",
       "</table>"
      ],
      "text/plain": [
       "<IPython.core.display.HTML object>"
      ]
     },
     "metadata": {},
     "output_type": "display_data"
    },
    {
     "data": {
      "text/markdown": [
       "<sup>(Ensemble1 represents the ensemble of collaborative filtering models;     Ensemble2 represents the ensemble of collaborative filtering and content filtering models)</sup>"
      ],
      "text/plain": [
       "<IPython.core.display.Markdown object>"
      ]
     },
     "metadata": {},
     "output_type": "display_data"
    },
    {
     "data": {
      "text/markdown": [
       "<br><br>"
      ],
      "text/plain": [
       "<IPython.core.display.Markdown object>"
      ]
     },
     "metadata": {},
     "output_type": "display_data"
    },
    {
     "data": {
      "text/markdown": [
       "### Toronto <sup>(331407 reviews, 12118 restaurants, 77506 users)</sup>"
      ],
      "text/plain": [
       "<IPython.core.display.Markdown object>"
      ]
     },
     "metadata": {},
     "output_type": "display_data"
    },
    {
     "data": {
      "text/html": [
       "<table border=\"1\" class=\"dataframe\">\n",
       "  <thead>\n",
       "    <tr style=\"text-align: right;\">\n",
       "      <th>Collaborative filtering</th>\n",
       "      <th>fitting time (s)</th>\n",
       "      <th>train RMSE</th>\n",
       "      <th>test RMSE</th>\n",
       "      <th>train $R^2$</th>\n",
       "      <th>test $R^2$</th>\n",
       "    </tr>\n",
       "  </thead>\n",
       "  <tbody>\n",
       "    <tr>\n",
       "      <td>Mode estimator</td>\n",
       "      <td>0.0000</td>\n",
       "      <td>1.8830</td>\n",
       "      <td>1.8801</td>\n",
       "      <td>-1.1173</td>\n",
       "      <td>-1.1219</td>\n",
       "    </tr>\n",
       "    <tr>\n",
       "      <td>Normal predictor*</td>\n",
       "      <td>1.0181</td>\n",
       "      <td>1.7034</td>\n",
       "      <td>1.7099</td>\n",
       "      <td>-0.7326</td>\n",
       "      <td>-0.7552</td>\n",
       "    </tr>\n",
       "    <tr>\n",
       "      <td>Baseline (mean)</td>\n",
       "      <td>0.2360</td>\n",
       "      <td>0.9293</td>\n",
       "      <td>1.2911</td>\n",
       "      <td>0.4843</td>\n",
       "      <td>-0.0006</td>\n",
       "    </tr>\n",
       "    <tr>\n",
       "      <td>Baseline (regression)</td>\n",
       "      <td>0.6270</td>\n",
       "      <td>0.9918</td>\n",
       "      <td>1.1624</td>\n",
       "      <td>0.4126</td>\n",
       "      <td>0.1890</td>\n",
       "    </tr>\n",
       "    <tr>\n",
       "      <td>Baseline (ALS)*</td>\n",
       "      <td>1.6651</td>\n",
       "      <td>1.0916</td>\n",
       "      <td>1.1730</td>\n",
       "      <td>0.2884</td>\n",
       "      <td>0.1740</td>\n",
       "    </tr>\n",
       "    <tr>\n",
       "      <td>SVD-ALS1</td>\n",
       "      <td>168.3716</td>\n",
       "      <td>0.5614</td>\n",
       "      <td>1.1751</td>\n",
       "      <td>0.8118</td>\n",
       "      <td>0.1711</td>\n",
       "    </tr>\n",
       "    <tr>\n",
       "      <td>SVD-ALS2</td>\n",
       "      <td>169.0347</td>\n",
       "      <td>0.5634</td>\n",
       "      <td>1.1795</td>\n",
       "      <td>0.8104</td>\n",
       "      <td>0.1649</td>\n",
       "    </tr>\n",
       "    <tr>\n",
       "      <td>SVD-SGD*</td>\n",
       "      <td>17.6360</td>\n",
       "      <td>0.8222</td>\n",
       "      <td>1.1772</td>\n",
       "      <td>0.5963</td>\n",
       "      <td>0.1681</td>\n",
       "    </tr>\n",
       "    <tr>\n",
       "      <td>SVD++-SGD*</td>\n",
       "      <td>119.8469</td>\n",
       "      <td>0.8730</td>\n",
       "      <td>1.1763</td>\n",
       "      <td>0.5449</td>\n",
       "      <td>0.1694</td>\n",
       "    </tr>\n",
       "    <tr>\n",
       "      <td>NMF-SGD*</td>\n",
       "      <td>22.2953</td>\n",
       "      <td>0.4094</td>\n",
       "      <td>1.3369</td>\n",
       "      <td>0.8999</td>\n",
       "      <td>-0.0729</td>\n",
       "    </tr>\n",
       "    <tr>\n",
       "      <td>Slope one*</td>\n",
       "      <td>7.2904</td>\n",
       "      <td>0.2959</td>\n",
       "      <td>1.3718</td>\n",
       "      <td>0.9477</td>\n",
       "      <td>-0.1296</td>\n",
       "    </tr>\n",
       "    <tr>\n",
       "      <td>Co-clustering*</td>\n",
       "      <td>17.0870</td>\n",
       "      <td>0.8344</td>\n",
       "      <td>1.2936</td>\n",
       "      <td>0.5842</td>\n",
       "      <td>-0.0045</td>\n",
       "    </tr>\n",
       "  </tbody>\n",
       "</table>"
      ],
      "text/plain": [
       "<IPython.core.display.HTML object>"
      ]
     },
     "metadata": {},
     "output_type": "display_data"
    },
    {
     "data": {
      "text/markdown": [
       "<sup>(* shows the algorithms we implemented by wrapping around     methods in scikit-surprise python package)</sup>"
      ],
      "text/plain": [
       "<IPython.core.display.Markdown object>"
      ]
     },
     "metadata": {},
     "output_type": "display_data"
    },
    {
     "data": {
      "text/html": [
       "<table border=\"1\" class=\"dataframe\">\n",
       "  <thead>\n",
       "    <tr style=\"text-align: right;\">\n",
       "      <th>Content filtering</th>\n",
       "      <th>fitting time (s)</th>\n",
       "      <th>train RMSE</th>\n",
       "      <th>test RMSE</th>\n",
       "      <th>train $R^2$</th>\n",
       "      <th>test $R^2$</th>\n",
       "    </tr>\n",
       "  </thead>\n",
       "  <tbody>\n",
       "    <tr>\n",
       "      <td>Ridge regression</td>\n",
       "      <td>1.1401</td>\n",
       "      <td>1.0049</td>\n",
       "      <td>1.0035</td>\n",
       "      <td>0.3970</td>\n",
       "      <td>0.3955</td>\n",
       "    </tr>\n",
       "    <tr>\n",
       "      <td>Random forest</td>\n",
       "      <td>27.0035</td>\n",
       "      <td>0.9891</td>\n",
       "      <td>0.9909</td>\n",
       "      <td>0.4158</td>\n",
       "      <td>0.4106</td>\n",
       "    </tr>\n",
       "  </tbody>\n",
       "</table>"
      ],
      "text/plain": [
       "<IPython.core.display.HTML object>"
      ]
     },
     "metadata": {},
     "output_type": "display_data"
    },
    {
     "data": {
      "text/html": [
       "<table border=\"1\" class=\"dataframe\">\n",
       "  <thead>\n",
       "    <tr style=\"text-align: right;\">\n",
       "      <th>Ensemble estimators</th>\n",
       "      <th>fitting time (s)</th>\n",
       "      <th>train RMSE</th>\n",
       "      <th>test RMSE</th>\n",
       "      <th>train $R^2$</th>\n",
       "      <th>test $R^2$</th>\n",
       "    </tr>\n",
       "  </thead>\n",
       "  <tbody>\n",
       "    <tr>\n",
       "      <td>Ensemble1 (weighted average)</td>\n",
       "      <td>0.0000</td>\n",
       "      <td>0.8044</td>\n",
       "      <td>1.1661</td>\n",
       "      <td>0.6136</td>\n",
       "      <td>0.1837</td>\n",
       "    </tr>\n",
       "    <tr>\n",
       "      <td>Ensemble1 (Ridge regression)</td>\n",
       "      <td>0.0290</td>\n",
       "      <td>1.0152</td>\n",
       "      <td>1.1620</td>\n",
       "      <td>0.3845</td>\n",
       "      <td>0.1895</td>\n",
       "    </tr>\n",
       "    <tr>\n",
       "      <td>Ensemble1 (random forest)</td>\n",
       "      <td>3.2312</td>\n",
       "      <td>0.9977</td>\n",
       "      <td>1.1637</td>\n",
       "      <td>0.4056</td>\n",
       "      <td>0.1872</td>\n",
       "    </tr>\n",
       "    <tr>\n",
       "      <td>Ensemble2 (weighted average)</td>\n",
       "      <td>0.0000</td>\n",
       "      <td>0.8564</td>\n",
       "      <td>1.0542</td>\n",
       "      <td>0.5620</td>\n",
       "      <td>0.3329</td>\n",
       "    </tr>\n",
       "    <tr>\n",
       "      <td>Ensemble2 (Ridge regression)</td>\n",
       "      <td>0.0390</td>\n",
       "      <td>1.0111</td>\n",
       "      <td>0.9879</td>\n",
       "      <td>0.3895</td>\n",
       "      <td>0.4141</td>\n",
       "    </tr>\n",
       "    <tr>\n",
       "      <td>Ensemble2 (random forest)</td>\n",
       "      <td>4.1512</td>\n",
       "      <td>0.9948</td>\n",
       "      <td>0.9962</td>\n",
       "      <td>0.4090</td>\n",
       "      <td>0.4043</td>\n",
       "    </tr>\n",
       "  </tbody>\n",
       "</table>"
      ],
      "text/plain": [
       "<IPython.core.display.HTML object>"
      ]
     },
     "metadata": {},
     "output_type": "display_data"
    },
    {
     "data": {
      "text/markdown": [
       "<sup>(Ensemble1 represents the ensemble of collaborative filtering models;     Ensemble2 represents the ensemble of collaborative filtering and content filtering models)</sup>"
      ],
      "text/plain": [
       "<IPython.core.display.Markdown object>"
      ]
     },
     "metadata": {},
     "output_type": "display_data"
    },
    {
     "data": {
      "text/markdown": [
       "<br><br>"
      ],
      "text/plain": [
       "<IPython.core.display.Markdown object>"
      ]
     },
     "metadata": {},
     "output_type": "display_data"
    },
    {
     "data": {
      "text/markdown": [
       "### Las_Vegas <sup>(1280896 reviews, 20434 restaurants, 429363 users)</sup>"
      ],
      "text/plain": [
       "<IPython.core.display.Markdown object>"
      ]
     },
     "metadata": {},
     "output_type": "display_data"
    },
    {
     "data": {
      "text/html": [
       "<table border=\"1\" class=\"dataframe\">\n",
       "  <thead>\n",
       "    <tr style=\"text-align: right;\">\n",
       "      <th>Collaborative filtering</th>\n",
       "      <th>fitting time (s)</th>\n",
       "      <th>train RMSE</th>\n",
       "      <th>test RMSE</th>\n",
       "      <th>train $R^2$</th>\n",
       "      <th>test $R^2$</th>\n",
       "    </tr>\n",
       "  </thead>\n",
       "  <tbody>\n",
       "    <tr>\n",
       "      <td>Mode estimator</td>\n",
       "      <td>0.0000</td>\n",
       "      <td>1.9060</td>\n",
       "      <td>1.9073</td>\n",
       "      <td>-0.7549</td>\n",
       "      <td>-0.7578</td>\n",
       "    </tr>\n",
       "    <tr>\n",
       "      <td>Normal predictor*</td>\n",
       "      <td>5.3933</td>\n",
       "      <td>1.8565</td>\n",
       "      <td>1.8573</td>\n",
       "      <td>-0.6649</td>\n",
       "      <td>-0.6667</td>\n",
       "    </tr>\n",
       "    <tr>\n",
       "      <td>Baseline (mean)</td>\n",
       "      <td>1.1371</td>\n",
       "      <td>0.9990</td>\n",
       "      <td>1.4148</td>\n",
       "      <td>0.5179</td>\n",
       "      <td>0.0329</td>\n",
       "    </tr>\n",
       "    <tr>\n",
       "      <td>Baseline (regression)</td>\n",
       "      <td>5.9963</td>\n",
       "      <td>1.0732</td>\n",
       "      <td>1.2612</td>\n",
       "      <td>0.4436</td>\n",
       "      <td>0.2314</td>\n",
       "    </tr>\n",
       "    <tr>\n",
       "      <td>Baseline (ALS)*</td>\n",
       "      <td>6.9174</td>\n",
       "      <td>1.1880</td>\n",
       "      <td>1.2696</td>\n",
       "      <td>0.3182</td>\n",
       "      <td>0.2211</td>\n",
       "    </tr>\n",
       "    <tr>\n",
       "      <td>SVD-ALS1</td>\n",
       "      <td>652.1173</td>\n",
       "      <td>0.4264</td>\n",
       "      <td>1.2794</td>\n",
       "      <td>0.9122</td>\n",
       "      <td>0.2091</td>\n",
       "    </tr>\n",
       "    <tr>\n",
       "      <td>SVD-ALS2</td>\n",
       "      <td>674.9286</td>\n",
       "      <td>0.4283</td>\n",
       "      <td>1.2862</td>\n",
       "      <td>0.9114</td>\n",
       "      <td>0.2007</td>\n",
       "    </tr>\n",
       "    <tr>\n",
       "      <td>SVD-SGD*</td>\n",
       "      <td>70.6220</td>\n",
       "      <td>0.7758</td>\n",
       "      <td>1.2827</td>\n",
       "      <td>0.7093</td>\n",
       "      <td>0.2050</td>\n",
       "    </tr>\n",
       "    <tr>\n",
       "      <td>SVD++-SGD*</td>\n",
       "      <td>333.8711</td>\n",
       "      <td>0.8046</td>\n",
       "      <td>1.3020</td>\n",
       "      <td>0.6873</td>\n",
       "      <td>0.1809</td>\n",
       "    </tr>\n",
       "    <tr>\n",
       "      <td>NMF-SGD*</td>\n",
       "      <td>92.4893</td>\n",
       "      <td>0.4178</td>\n",
       "      <td>1.4916</td>\n",
       "      <td>0.9157</td>\n",
       "      <td>-0.0750</td>\n",
       "    </tr>\n",
       "    <tr>\n",
       "      <td>Slope one*</td>\n",
       "      <td>24.1324</td>\n",
       "      <td>0.4314</td>\n",
       "      <td>1.5076</td>\n",
       "      <td>0.9101</td>\n",
       "      <td>-0.0983</td>\n",
       "    </tr>\n",
       "    <tr>\n",
       "      <td>Co-clustering*</td>\n",
       "      <td>77.2254</td>\n",
       "      <td>0.8555</td>\n",
       "      <td>1.4343</td>\n",
       "      <td>0.6464</td>\n",
       "      <td>0.0060</td>\n",
       "    </tr>\n",
       "  </tbody>\n",
       "</table>"
      ],
      "text/plain": [
       "<IPython.core.display.HTML object>"
      ]
     },
     "metadata": {},
     "output_type": "display_data"
    },
    {
     "data": {
      "text/markdown": [
       "<sup>(* shows the algorithms we implemented by wrapping around     methods in scikit-surprise python package)</sup>"
      ],
      "text/plain": [
       "<IPython.core.display.Markdown object>"
      ]
     },
     "metadata": {},
     "output_type": "display_data"
    },
    {
     "data": {
      "text/html": [
       "<table border=\"1\" class=\"dataframe\">\n",
       "  <thead>\n",
       "    <tr style=\"text-align: right;\">\n",
       "      <th>Content filtering</th>\n",
       "      <th>fitting time (s)</th>\n",
       "      <th>train RMSE</th>\n",
       "      <th>test RMSE</th>\n",
       "      <th>train $R^2$</th>\n",
       "      <th>test $R^2$</th>\n",
       "    </tr>\n",
       "  </thead>\n",
       "  <tbody>\n",
       "    <tr>\n",
       "      <td>Ridge regression</td>\n",
       "      <td>5.0093</td>\n",
       "      <td>1.1216</td>\n",
       "      <td>1.1226</td>\n",
       "      <td>0.3923</td>\n",
       "      <td>0.3911</td>\n",
       "    </tr>\n",
       "    <tr>\n",
       "      <td>Random forest</td>\n",
       "      <td>154.2278</td>\n",
       "      <td>1.1008</td>\n",
       "      <td>1.1029</td>\n",
       "      <td>0.4146</td>\n",
       "      <td>0.4122</td>\n",
       "    </tr>\n",
       "  </tbody>\n",
       "</table>"
      ],
      "text/plain": [
       "<IPython.core.display.HTML object>"
      ]
     },
     "metadata": {},
     "output_type": "display_data"
    },
    {
     "data": {
      "text/html": [
       "<table border=\"1\" class=\"dataframe\">\n",
       "  <thead>\n",
       "    <tr style=\"text-align: right;\">\n",
       "      <th>Ensemble estimators</th>\n",
       "      <th>fitting time (s)</th>\n",
       "      <th>train RMSE</th>\n",
       "      <th>test RMSE</th>\n",
       "      <th>train $R^2$</th>\n",
       "      <th>test $R^2$</th>\n",
       "    </tr>\n",
       "  </thead>\n",
       "  <tbody>\n",
       "    <tr>\n",
       "      <td>Ensemble1 (weighted average)</td>\n",
       "      <td>0.0000</td>\n",
       "      <td>0.7633</td>\n",
       "      <td>1.2648</td>\n",
       "      <td>0.7185</td>\n",
       "      <td>0.2270</td>\n",
       "    </tr>\n",
       "    <tr>\n",
       "      <td>Ensemble1 (Ridge regression)</td>\n",
       "      <td>0.1270</td>\n",
       "      <td>1.0514</td>\n",
       "      <td>1.2600</td>\n",
       "      <td>0.4660</td>\n",
       "      <td>0.2329</td>\n",
       "    </tr>\n",
       "    <tr>\n",
       "      <td>Ensemble1 (random forest)</td>\n",
       "      <td>13.2948</td>\n",
       "      <td>1.0838</td>\n",
       "      <td>1.2617</td>\n",
       "      <td>0.4326</td>\n",
       "      <td>0.2308</td>\n",
       "    </tr>\n",
       "    <tr>\n",
       "      <td>Ensemble2 (weighted average)</td>\n",
       "      <td>0.0000</td>\n",
       "      <td>0.8674</td>\n",
       "      <td>1.1697</td>\n",
       "      <td>0.6366</td>\n",
       "      <td>0.3389</td>\n",
       "    </tr>\n",
       "    <tr>\n",
       "      <td>Ensemble2 (Ridge regression)</td>\n",
       "      <td>0.1520</td>\n",
       "      <td>1.1144</td>\n",
       "      <td>1.1016</td>\n",
       "      <td>0.4001</td>\n",
       "      <td>0.4136</td>\n",
       "    </tr>\n",
       "    <tr>\n",
       "      <td>Ensemble2 (random forest)</td>\n",
       "      <td>16.9300</td>\n",
       "      <td>1.1061</td>\n",
       "      <td>1.1082</td>\n",
       "      <td>0.4090</td>\n",
       "      <td>0.4066</td>\n",
       "    </tr>\n",
       "  </tbody>\n",
       "</table>"
      ],
      "text/plain": [
       "<IPython.core.display.HTML object>"
      ]
     },
     "metadata": {},
     "output_type": "display_data"
    },
    {
     "data": {
      "text/markdown": [
       "<sup>(Ensemble1 represents the ensemble of collaborative filtering models;     Ensemble2 represents the ensemble of collaborative filtering and content filtering models)</sup>"
      ],
      "text/plain": [
       "<IPython.core.display.Markdown object>"
      ]
     },
     "metadata": {},
     "output_type": "display_data"
    },
    {
     "data": {
      "text/markdown": [
       "<br><br>"
      ],
      "text/plain": [
       "<IPython.core.display.Markdown object>"
      ]
     },
     "metadata": {},
     "output_type": "display_data"
    },
    {
     "data": {
      "text/markdown": [
       "### Full <sup>(4166778 reviews, 131025 restaurants, 1117891 users)</sup>"
      ],
      "text/plain": [
       "<IPython.core.display.Markdown object>"
      ]
     },
     "metadata": {},
     "output_type": "display_data"
    },
    {
     "data": {
      "text/html": [
       "<table border=\"1\" class=\"dataframe\">\n",
       "  <thead>\n",
       "    <tr style=\"text-align: right;\">\n",
       "      <th>Collaborative filtering</th>\n",
       "      <th>fitting time (s)</th>\n",
       "      <th>train RMSE</th>\n",
       "      <th>test RMSE</th>\n",
       "      <th>train $R^2$</th>\n",
       "      <th>test $R^2$</th>\n",
       "    </tr>\n",
       "  </thead>\n",
       "  <tbody>\n",
       "    <tr>\n",
       "      <td>Mode estimator</td>\n",
       "      <td>0.0000</td>\n",
       "      <td>1.8974</td>\n",
       "      <td>1.8985</td>\n",
       "      <td>-0.7803</td>\n",
       "      <td>-0.7799</td>\n",
       "    </tr>\n",
       "    <tr>\n",
       "      <td>Normal predictor*</td>\n",
       "      <td>19.3631</td>\n",
       "      <td>1.8394</td>\n",
       "      <td>1.8405</td>\n",
       "      <td>-0.6729</td>\n",
       "      <td>-0.6727</td>\n",
       "    </tr>\n",
       "    <tr>\n",
       "      <td>Baseline (mean)</td>\n",
       "      <td>4.6053</td>\n",
       "      <td>1.0178</td>\n",
       "      <td>1.4063</td>\n",
       "      <td>0.4878</td>\n",
       "      <td>0.0234</td>\n",
       "    </tr>\n",
       "    <tr>\n",
       "      <td>Baseline (regression)</td>\n",
       "      <td>21.4822</td>\n",
       "      <td>1.0642</td>\n",
       "      <td>1.2529</td>\n",
       "      <td>0.4400</td>\n",
       "      <td>0.2248</td>\n",
       "    </tr>\n",
       "    <tr>\n",
       "      <td>Baseline (ALS)*</td>\n",
       "      <td>27.2096</td>\n",
       "      <td>1.1754</td>\n",
       "      <td>1.2659</td>\n",
       "      <td>0.3169</td>\n",
       "      <td>0.2086</td>\n",
       "    </tr>\n",
       "    <tr>\n",
       "      <td>SVD-ALS1</td>\n",
       "      <td>2153.7902</td>\n",
       "      <td>0.5313</td>\n",
       "      <td>1.2691</td>\n",
       "      <td>0.8604</td>\n",
       "      <td>0.2046</td>\n",
       "    </tr>\n",
       "    <tr>\n",
       "      <td>SVD-ALS2</td>\n",
       "      <td>2268.9128</td>\n",
       "      <td>0.5332</td>\n",
       "      <td>1.2756</td>\n",
       "      <td>0.8594</td>\n",
       "      <td>0.1965</td>\n",
       "    </tr>\n",
       "    <tr>\n",
       "      <td>SVD-SGD*</td>\n",
       "      <td>242.1499</td>\n",
       "      <td>0.8312</td>\n",
       "      <td>1.2721</td>\n",
       "      <td>0.6584</td>\n",
       "      <td>0.2008</td>\n",
       "    </tr>\n",
       "    <tr>\n",
       "      <td>SVD++-SGD*</td>\n",
       "      <td>1473.2923</td>\n",
       "      <td>0.8713</td>\n",
       "      <td>1.2784</td>\n",
       "      <td>0.6246</td>\n",
       "      <td>0.1930</td>\n",
       "    </tr>\n",
       "    <tr>\n",
       "      <td>NMF-SGD*</td>\n",
       "      <td>323.9235</td>\n",
       "      <td>0.4277</td>\n",
       "      <td>1.4656</td>\n",
       "      <td>0.9095</td>\n",
       "      <td>-0.0607</td>\n",
       "    </tr>\n",
       "  </tbody>\n",
       "</table>"
      ],
      "text/plain": [
       "<IPython.core.display.HTML object>"
      ]
     },
     "metadata": {},
     "output_type": "display_data"
    },
    {
     "data": {
      "text/markdown": [
       "<sup>(* shows the algorithms we implemented by wrapping around     methods in scikit-surprise python package)</sup>"
      ],
      "text/plain": [
       "<IPython.core.display.Markdown object>"
      ]
     },
     "metadata": {},
     "output_type": "display_data"
    },
    {
     "data": {
      "text/html": [
       "<table border=\"1\" class=\"dataframe\">\n",
       "  <thead>\n",
       "    <tr style=\"text-align: right;\">\n",
       "      <th>Content filtering</th>\n",
       "      <th>fitting time (s)</th>\n",
       "      <th>train RMSE</th>\n",
       "      <th>test RMSE</th>\n",
       "      <th>train $R^2$</th>\n",
       "      <th>test $R^2$</th>\n",
       "    </tr>\n",
       "  </thead>\n",
       "  <tbody>\n",
       "    <tr>\n",
       "      <td>Ridge regression</td>\n",
       "      <td>17.1610</td>\n",
       "      <td>1.0857</td>\n",
       "      <td>1.0869</td>\n",
       "      <td>0.4171</td>\n",
       "      <td>0.4167</td>\n",
       "    </tr>\n",
       "    <tr>\n",
       "      <td>Random forest</td>\n",
       "      <td>663.2849</td>\n",
       "      <td>1.0639</td>\n",
       "      <td>1.0653</td>\n",
       "      <td>0.4403</td>\n",
       "      <td>0.4396</td>\n",
       "    </tr>\n",
       "  </tbody>\n",
       "</table>"
      ],
      "text/plain": [
       "<IPython.core.display.HTML object>"
      ]
     },
     "metadata": {},
     "output_type": "display_data"
    },
    {
     "data": {
      "text/html": [
       "<table border=\"1\" class=\"dataframe\">\n",
       "  <thead>\n",
       "    <tr style=\"text-align: right;\">\n",
       "      <th>Ensemble estimators</th>\n",
       "      <th>fitting time (s)</th>\n",
       "      <th>train RMSE</th>\n",
       "      <th>test RMSE</th>\n",
       "      <th>train $R^2$</th>\n",
       "      <th>test $R^2$</th>\n",
       "    </tr>\n",
       "  </thead>\n",
       "  <tbody>\n",
       "    <tr>\n",
       "      <td>Ensemble1 (weighted average)</td>\n",
       "      <td>0.0000</td>\n",
       "      <td>0.8161</td>\n",
       "      <td>1.2572</td>\n",
       "      <td>0.6706</td>\n",
       "      <td>0.2195</td>\n",
       "    </tr>\n",
       "    <tr>\n",
       "      <td>Ensemble1 (Ridge regression)</td>\n",
       "      <td>0.4160</td>\n",
       "      <td>1.0550</td>\n",
       "      <td>1.2520</td>\n",
       "      <td>0.4496</td>\n",
       "      <td>0.2260</td>\n",
       "    </tr>\n",
       "    <tr>\n",
       "      <td>Ensemble1 (random forest)</td>\n",
       "      <td>56.0282</td>\n",
       "      <td>1.0652</td>\n",
       "      <td>1.2542</td>\n",
       "      <td>0.4389</td>\n",
       "      <td>0.2233</td>\n",
       "    </tr>\n",
       "    <tr>\n",
       "      <td>Ensemble2 (weighted average)</td>\n",
       "      <td>0.0000</td>\n",
       "      <td>0.8864</td>\n",
       "      <td>1.1434</td>\n",
       "      <td>0.6115</td>\n",
       "      <td>0.3545</td>\n",
       "    </tr>\n",
       "    <tr>\n",
       "      <td>Ensemble2 (Ridge regression)</td>\n",
       "      <td>0.5530</td>\n",
       "      <td>1.0865</td>\n",
       "      <td>1.0623</td>\n",
       "      <td>0.4163</td>\n",
       "      <td>0.4427</td>\n",
       "    </tr>\n",
       "    <tr>\n",
       "      <td>Ensemble2 (random forest)</td>\n",
       "      <td>69.6950</td>\n",
       "      <td>1.0689</td>\n",
       "      <td>1.0703</td>\n",
       "      <td>0.4351</td>\n",
       "      <td>0.4343</td>\n",
       "    </tr>\n",
       "  </tbody>\n",
       "</table>"
      ],
      "text/plain": [
       "<IPython.core.display.HTML object>"
      ]
     },
     "metadata": {},
     "output_type": "display_data"
    },
    {
     "data": {
      "text/markdown": [
       "<sup>(Ensemble1 represents the ensemble of collaborative filtering models;     Ensemble2 represents the ensemble of collaborative filtering and content filtering models)</sup>"
      ],
      "text/plain": [
       "<IPython.core.display.Markdown object>"
      ]
     },
     "metadata": {},
     "output_type": "display_data"
    },
    {
     "data": {
      "text/markdown": [
       "<br><br>"
      ],
      "text/plain": [
       "<IPython.core.display.Markdown object>"
      ]
     },
     "metadata": {},
     "output_type": "display_data"
    }
   ],
   "source": [
    "cities = ['Champaign', 'Cleveland', 'Pittsburgh', 'Toronto', 'Las_Vegas', 'Full']\n",
    "\n",
    "for city in cities:\n",
    "    data_dir = 'data/{}/'.format(city)\n",
    "    model_names = IO(data_dir + 'results/model_names.pkl').read_pickle()\n",
    "    results = IO(data_dir + 'results/results.pkl').read_pickle()\n",
    "    is_successful = IO(data_dir + 'results/is_successful.pkl').read_pickle()\n",
    "    sizes = IO(data_dir + 'sizes.pkl').read_pickle()\n",
    "    \n",
    "    display(Markdown('### {} <sup>({} reviews, {} restaurants, {} users)</sup>'.\\\n",
    "                 format(city, sizes[0], sizes[1], sizes[2])))\n",
    "    # display(Markdown('**Collaborative filtering**'))\n",
    "    show_summaries(model_names, results, is_successful, title='Collaborative filtering')\n",
    "    display(Markdown('<sup>(* shows the algorithms we implemented by wrapping around \\\n",
    "    methods in scikit-surprise python package)</sup>'))\n",
    "    \n",
    "    model_names = IO(data_dir + 'results05/model_names.pkl').read_pickle()\n",
    "    results = IO(data_dir + 'results05/results.pkl').read_pickle()\n",
    "    is_successful = IO(data_dir + 'results05/is_successful.pkl').read_pickle()\n",
    "    #sizes = IO(data_dir + 'sizes.pkl').read_pickle()\n",
    "\n",
    "    #display(Markdown('### {} <sup>({} reviews, {} restaurants, {} users)</sup>'.\\\n",
    "                     #format(city, sizes[0], sizes[1], sizes[2])))\n",
    "    #display(Markdown('**Content filtering**'))\n",
    "    show_summaries(model_names, results, is_successful, title='Content filtering')\n",
    "    \n",
    "    model_names = IO(data_dir + 'results06/model_names.pkl').read_pickle()\n",
    "    results = IO(data_dir + 'results06/results.pkl').read_pickle()\n",
    "    is_successful = IO(data_dir + 'results06/is_successful.pkl').read_pickle()\n",
    "    #sizes = IO(data_dir + 'sizes.pkl').read_pickle()\n",
    "\n",
    "    #display(Markdown('### {} <sup>({} reviews, {} restaurants, {} users)</sup>'.\\\n",
    "                     #format(city, sizes[0], sizes[1], sizes[2])))\n",
    "    #display(Markdown('**Ensemble estimators**'))\n",
    "    show_summaries(model_names, results, is_successful, title='Ensemble estimators')\n",
    "    display(Markdown('<sup>(Ensemble1 represents the ensemble of collaborative filtering models; \\\n",
    "    Ensemble2 represents the ensemble of collaborative filtering and content filtering models)</sup>'))\n",
    "        \n",
    "    display(Markdown('''<br><br>'''))"
   ]
  },
  {
   "cell_type": "markdown",
   "metadata": {
    "collapsed": true
   },
   "source": [
    "## Authors\n",
    "\n",
    "* [Weidong Xu](https://github.com/xuwd11)\n",
    "\n",
    "* [Jiejun Lu](https://github.com/gwungwun)"
   ]
  }
 ],
 "metadata": {
  "kernelspec": {
   "display_name": "Python 3",
   "language": "python",
   "name": "python3"
  },
  "language_info": {
   "codemirror_mode": {
    "name": "ipython",
    "version": 3
   },
   "file_extension": ".py",
   "mimetype": "text/x-python",
   "name": "python",
   "nbconvert_exporter": "python",
   "pygments_lexer": "ipython3",
   "version": "3.6.3"
  }
 },
 "nbformat": 4,
 "nbformat_minor": 2
}
