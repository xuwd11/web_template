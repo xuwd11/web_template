{
 "cells": [
  {
   "cell_type": "markdown",
   "metadata": {},
   "source": [
    "# References"
   ]
  },
  {
   "cell_type": "markdown",
   "metadata": {},
   "source": [
    "## Acknowledgment\n",
    "\n",
    "We would like to express our sincere appreciation and thanks to all the professors and teaching fellows in AC209. We greatly admire their inspiring guidance, indispensable support and illuminating instruction in this semester as well as the preparation of this report and website."
   ]
  },
  {
   "cell_type": "markdown",
   "metadata": {
    "collapsed": true
   },
   "source": [
    "## References\n",
    "\n",
    "1. [Yelp Dataset](https://www.yelp.com/dataset) and [Yelp's Academic Dataset Examples](https://github.com/Yelp/dataset-examples)\n",
    "2. [Oversampling with Bigram Multinomial Naive Bayes to Predict Yelp Review Star Classes](https://kevin11h.github.io/YelpDatasetChallengeDataScienceAndMachineLearningUCSD/), Kevin Hung and Henry Qiu, University of California, San Diego.\n",
    "3. [Matrix Factorization Techniques for Recommender Systems](https://datajobs.com/data-science-repo/Recommender-Systems-%5BNetflix%5D.pdf), Yehuda Koren, Robert Bell and Chris Volinsky, 2009.\n",
    "4. [Probabilistic Matrix Factorization](http://papers.nips.cc/paper/3208-probabilistic-matrix-factorization.pdf), Ruslan Salakhutdinov and Andriy Mnih, 2008.\n",
    "5. [An Efficient Non-Negative Matrix-Factorization-Based Approach to Collaborative Filtering for Recommender Systems](http://ieeexplore.ieee.org.ezp-prod1.hul.harvard.edu/stamp/stamp.jsp?arnumber=6748996&tag=1), Xin Luo, Mengchu Zhou, Yunni Xia and Qingsheng Zhu, 2014.\n",
    "6. [Slope One Predictors for Online Rating-Based Collaborative Filtering](https://arxiv.org/pdf/cs/0702144.pdf), Daniel Lemire and Anna Maclachlan, 2005.\n",
    "7. [A Scalable Collaborative Filtering Framework based on Co-clustering](http://citeseerx.ist.psu.edu/viewdoc/download?doi=10.1.1.113.6458&rep=rep1&type=pdf), Thomas George and Srujana Merugu, 2005.\n",
    "8. [`scikit-surprise`](http://surpriselib.com/) package."
   ]
  },
  {
   "cell_type": "code",
   "execution_count": null,
   "metadata": {
    "collapsed": true
   },
   "outputs": [],
   "source": []
  }
 ],
 "metadata": {
  "kernelspec": {
   "display_name": "Python 3",
   "language": "python",
   "name": "python3"
  },
  "language_info": {
   "codemirror_mode": {
    "name": "ipython",
    "version": 3
   },
   "file_extension": ".py",
   "mimetype": "text/x-python",
   "name": "python",
   "nbconvert_exporter": "python",
   "pygments_lexer": "ipython3",
   "version": "3.6.3"
  }
 },
 "nbformat": 4,
 "nbformat_minor": 2
}
