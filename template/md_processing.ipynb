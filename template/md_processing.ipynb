{
 "cells": [
  {
   "cell_type": "code",
   "execution_count": 1,
   "metadata": {
    "collapsed": true
   },
   "outputs": [],
   "source": [
    "import re\n",
    "\n",
    "def remove_codes(file_name):\n",
    "    with open(file_name, 'r') as f:\n",
    "        md = f.read()\n",
    "    codes = re.compile('```python.*?```', re.DOTALL)\n",
    "    md_new = re.sub(codes, '', md)\n",
    "    with open(file_name, 'w') as f:\n",
    "        f.write(md_new.strip())\n",
    "        \n",
    "def remove_table_border(file_name):\n",
    "    with open(file_name, 'r') as f:\n",
    "        md = f.read()\n",
    "    t = '<table border=\"1\"'\n",
    "    md_new = re.sub(t, '<table ', md)\n",
    "    with open(file_name, 'w') as f:\n",
    "        f.write(md_new.strip())\n",
    "\n",
    "def change_table_text_align(file_name, align='left'):\n",
    "    with open(file_name, 'r') as f:\n",
    "        md = f.read()\n",
    "    md_new = re.sub(re.compile('<tr style=\"text-align:.*?\">'), \\\n",
    "                   '<tr style=\"text-align: {};\">'.format(align), md)\n",
    "    with open(file_name, 'w') as f:\n",
    "        f.write(md_new.strip())\n",
    "\n",
    "SUMMARYSTUFF = \"\"\"\n",
    "## Contents\n",
    "{:.no_toc}\n",
    "*  \n",
    "{: toc}\n",
    "\n",
    "\"\"\"\n",
    "       \n",
    "def add_preamble(file_name, i, title, has_title=True):        \n",
    "    with open(file_name, 'r') as f:\n",
    "        md = f.read()\n",
    "    if md[:15]=='---\\nnav_include':\n",
    "        md_new = re.sub(re.compile('---\\nnav_include: .*'), \\\n",
    "                                   '---\\nnav_include: {}'.format(i), md, 1)\n",
    "    else:\n",
    "        preamble = '---\\nnav_include: {}\\ntitle: {}\\nnotebook: {}\\n---\\n'\\\n",
    "        .format(i, title, file_name.split('.')[0] + '.ipynb')\n",
    "        if has_title:\n",
    "            md = re.sub(re.compile('#.*'), '', md, 1)\n",
    "        md_new = preamble + SUMMARYSTUFF + '' + md.strip()\n",
    "    with open(file_name, 'w') as f:\n",
    "        f.write(md_new.strip())"
   ]
  },
  {
   "cell_type": "code",
   "execution_count": 2,
   "metadata": {
    "collapsed": true
   },
   "outputs": [],
   "source": [
    "file_names = ['03_EDA.md', '04_collaborative_filtering.md', \\\n",
    "              '05_content_filtering.md', '06_ensemble.md', \\\n",
    "              '07_results.md', '08_conclusions.md', '09_reference.md']\n",
    "titles = ['EDA', 'Collaborative Filtering', \\\n",
    "          'Content Filtering', 'Ensemble', \\\n",
    "          'Results', 'Conclusions', 'References']\n",
    "\n",
    "for i, file_name in enumerate(file_names):\n",
    "    remove_codes(file_name)\n",
    "    remove_table_border(file_name)\n",
    "    change_table_text_align(file_name, 'left')\n",
    "    add_preamble(file_name, i+1, titles[i])"
   ]
  },
  {
   "cell_type": "code",
   "execution_count": 3,
   "metadata": {
    "collapsed": true
   },
   "outputs": [],
   "source": [
    "file_name = 'index.md'\n",
    "\n",
    "remove_codes(file_name)\n",
    "remove_table_border(file_name)\n",
    "change_table_text_align(file_name, 'left')"
   ]
  },
  {
   "cell_type": "code",
   "execution_count": null,
   "metadata": {
    "collapsed": true
   },
   "outputs": [],
   "source": [
    "    "
   ]
  },
  {
   "cell_type": "code",
   "execution_count": null,
   "metadata": {
    "collapsed": true
   },
   "outputs": [],
   "source": []
  }
 ],
 "metadata": {
  "kernelspec": {
   "display_name": "Python 3",
   "language": "python",
   "name": "python3"
  },
  "language_info": {
   "codemirror_mode": {
    "name": "ipython",
    "version": 3
   },
   "file_extension": ".py",
   "mimetype": "text/x-python",
   "name": "python",
   "nbconvert_exporter": "python",
   "pygments_lexer": "ipython3",
   "version": "3.6.1"
  }
 },
 "nbformat": 4,
 "nbformat_minor": 2
}
