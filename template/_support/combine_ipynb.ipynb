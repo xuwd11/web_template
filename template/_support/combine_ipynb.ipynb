{
 "cells": [
  {
   "cell_type": "code",
   "execution_count": 1,
   "metadata": {
    "collapsed": true
   },
   "outputs": [],
   "source": [
    "import json\n",
    "from copy import deepcopy\n",
    "file_names = ['index.ipynb', '03_EDA.ipynb', '04_collaborative_filtering.ipynb', \\\n",
    "              '05_content_filtering.ipynb', '06_ensemble.ipynb', \\\n",
    "              '07_results.ipynb', '08_conclusions.ipynb', '09_reference.ipynb']\n",
    "file_name = file_names[0]\n",
    "\n",
    "with open(file_names[0], 'r') as f:\n",
    "    merged = deepcopy(json.load(f))\n",
    "    \n",
    "for file_name in file_names[1:]:\n",
    "    with open(file_name, 'r') as f:\n",
    "        merged['cells'] = merged['cells'] + json.load(f)['cells']\n",
    "\n",
    "with open('rs_all.ipynb', 'w') as f:\n",
    "    json.dump(merged, f)"
   ]
  },
  {
   "cell_type": "code",
   "execution_count": null,
   "metadata": {
    "collapsed": true
   },
   "outputs": [],
   "source": []
  }
 ],
 "metadata": {
  "kernelspec": {
   "display_name": "Python 3",
   "language": "python",
   "name": "python3"
  },
  "language_info": {
   "codemirror_mode": {
    "name": "ipython",
    "version": 3
   },
   "file_extension": ".py",
   "mimetype": "text/x-python",
   "name": "python",
   "nbconvert_exporter": "python",
   "pygments_lexer": "ipython3",
   "version": "3.6.3"
  }
 },
 "nbformat": 4,
 "nbformat_minor": 2
}
