{
 "cells": [
  {
   "cell_type": "code",
   "execution_count": 1,
   "metadata": {
    "collapsed": true
   },
   "outputs": [],
   "source": [
    "import re\n",
    "\n",
    "def remove_codes(file_name, new_name=None):\n",
    "    if new_name is None:\n",
    "        new_name = file_name[:-4] + '_new.tex'\n",
    "        \n",
    "    with open(file_name, 'r') as f:\n",
    "        data = f.read()\n",
    "        \n",
    "    codes = re.compile(r'\\\\begin{Verbatim}\\[commandchars=.*?end{Verbatim}', \\\n",
    "                       re.DOTALL)\n",
    "    codes = re.compile(r'\\\\begin{Verbatim}\\[commandchars\\\n",
    "=\\\\\\\\\\\\{\\\\}\\]\\n{\\\\color.*?end{Verbatim}', re.DOTALL)\n",
    "    \n",
    "    data_new = re.sub(codes, '', data)\n",
    "    \n",
    "    with open(new_name, 'w') as f:\n",
    "        f.write(data_new)"
   ]
  },
  {
   "cell_type": "code",
   "execution_count": 2,
   "metadata": {},
   "outputs": [
    {
     "name": "stderr",
     "output_type": "stream",
     "text": [
      "[NbConvertApp] Converting notebook examples/example1.ipynb to latex\n",
      "[NbConvertApp] Support files will be in example1_files/\n",
      "[NbConvertApp] Making directory examples/example1_files\n",
      "[NbConvertApp] Writing 16920 bytes to examples/example1.tex\n"
     ]
    }
   ],
   "source": [
    "%%bash\n",
    "jupyter nbconvert --to latex examples/example1.ipynb"
   ]
  },
  {
   "cell_type": "code",
   "execution_count": 3,
   "metadata": {},
   "outputs": [],
   "source": [
    "data_dir = 'examples/'\n",
    "\n",
    "file_names = ['example1.tex']\n",
    "\n",
    "file_names = [data_dir + file_name for file_name in file_names]\n",
    "\n",
    "for file_name in file_names:\n",
    "    remove_codes(file_name)"
   ]
  },
  {
   "cell_type": "code",
   "execution_count": null,
   "metadata": {},
   "outputs": [],
   "source": []
  },
  {
   "cell_type": "code",
   "execution_count": null,
   "metadata": {
    "collapsed": true
   },
   "outputs": [],
   "source": [
    "#data_dir = '../notebooks/'\n",
    "\n",
    "#file_names = ['04_collaborative_filtering.tex']\n",
    "\n",
    "#file_names = [data_dir + file_name for file_name in file_names]\n",
    "\n",
    "#for file_name in file_names:\n",
    "    #remove_codes(file_name)"
   ]
  }
 ],
 "metadata": {
  "kernelspec": {
   "display_name": "Python 3",
   "language": "python",
   "name": "python3"
  },
  "language_info": {
   "codemirror_mode": {
    "name": "ipython",
    "version": 3
   },
   "file_extension": ".py",
   "mimetype": "text/x-python",
   "name": "python",
   "nbconvert_exporter": "python",
   "pygments_lexer": "ipython3",
   "version": "3.6.1"
  }
 },
 "nbformat": 4,
 "nbformat_minor": 2
}
